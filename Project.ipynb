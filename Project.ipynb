{
 "cells": [
  {
   "cell_type": "code",
   "execution_count": null,
   "metadata": {},
   "outputs": [
    {
     "name": "stdout",
     "output_type": "stream",
     "text": [
      "Press 1 to sign in---- Press 2 to sign up2\n",
      "Enter your name: d\n",
      "Enter your surmane: d\n",
      "Press 1 to sing in1\n",
      "Enter your name to log in: d\n",
      "Enter your surname to log in: d\n",
      "  WELCOME D D\n",
      "You entered successfully\n"
     ]
    }
   ],
   "source": [
    "num=int(input(\"Press 1 to sign in---- Press 2 to sign up\"))\n",
    "student={}\n",
    "lessons=[]\n",
    "'''def enter():\n",
    "    for i in range(0,3):\n",
    "            namee=input(\"Enter your name to log in: \")\n",
    "            surnamee=input(\"Enter your surname to log in: \")\n",
    "            if namee==student[\"name\"] and surnamee==student[\"surname\"]:\n",
    "                print(f'  WELCOME {student[\"name\"].upper()} {student[\"surname\"].upper()}')\n",
    "                b=True      \n",
    "                break\n",
    "            else:\n",
    "                print(\"Name or Surname incorrect\")\n",
    "        if b:\n",
    "            print(\"You entered successfully\")\n",
    "        else:\n",
    "            print(\"Please try again later\")'''\n",
    "                      \n",
    "#register\n",
    "b=False\n",
    "if num==2:\n",
    "    student[\"name\"]=input(\"Enter your name: \")\n",
    "    student[\"surname\"]=input(\"Enter your surmane: \")\n",
    "    num1=int(input(\"Press 1 to sing in\"))\n",
    "    if num1==1:\n",
    "        for i in range(0,3):\n",
    "            namee=input(\"Enter your name to log in: \")\n",
    "            surnamee=input(\"Enter your surname to log in: \")\n",
    "            if namee==student[\"name\"] and surnamee==student[\"surname\"]:\n",
    "                print(f'  WELCOME {student[\"name\"].upper()} {student[\"surname\"].upper()}')\n",
    "                b=True      \n",
    "                break\n",
    "            else:\n",
    "                print(\"Name or Surname incorrect\")\n",
    "        if b:\n",
    "            print(\"You entered successfully\")\n",
    "        else:\n",
    "            print(\"Please try again later\")\n",
    "                      \n",
    "    else:\n",
    "        while num1!=1:\n",
    "             n=int(input(\"Press 1 to continue\"))\n",
    "             num1=n\n",
    "             if num1==1:\n",
    "                      b=True\n",
    "    \n",
    "\n",
    "    course1=input(\"Please enter course 1. name: \")\n",
    "    lessons.append(course1)\n",
    "    course2=input(\"Please enter course 2. name: \")\n",
    "    lessons.append(course2)\n",
    "    course3=input(\"Please enter course 3. name: \")\n",
    "    lessons.append(course3)\n",
    "    course4=input(\"Please enter course 4. name: \")\n",
    "    lessons.append(course4)\n",
    "    course5=input(\"Please enter course 5. name: \")\n",
    "    lessons.append(course5)\n",
    "    \n",
    "    "
   ]
  },
  {
   "cell_type": "code",
   "execution_count": null,
   "metadata": {},
   "outputs": [],
   "source": []
  },
  {
   "cell_type": "code",
   "execution_count": null,
   "metadata": {},
   "outputs": [],
   "source": []
  }
 ],
 "metadata": {
  "kernelspec": {
   "display_name": "Python 3",
   "language": "python",
   "name": "python3"
  },
  "language_info": {
   "codemirror_mode": {
    "name": "ipython",
    "version": 3
   },
   "file_extension": ".py",
   "mimetype": "text/x-python",
   "name": "python",
   "nbconvert_exporter": "python",
   "pygments_lexer": "ipython3",
   "version": "3.6.8"
  }
 },
 "nbformat": 4,
 "nbformat_minor": 2
}
