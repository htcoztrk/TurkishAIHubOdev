{
 "cells": [
  {
   "cell_type": "code",
   "execution_count": 1,
   "metadata": {},
   "outputs": [
    {
     "name": "stdout",
     "output_type": "stream",
     "text": [
      "Please enter your firs name:Hatice\n",
      "Please enter your last name:Öztürk\n",
      "Please enter you age:24\n",
      "You can gou out to the street.\n",
      "Please enter your birtdate:1996\n"
     ]
    }
   ],
   "source": [
    "#Getting user info and checking age for giving message about go out\n",
    "first_name=input(\"Please enter your firs name:\")\n",
    "last_name=input(\"Please enter your last name:\")\n",
    "age=int(input(\"Please enter you age:\"))\n",
    "if age<18:\n",
    "    print(\"You can't go out because it's too dangerous.\")\n",
    "else:\n",
    "    print(\"You can gou out to the street.\")\n",
    "birth_date=int(input(\"Please enter your birtdate:\"))\n",
    "\n"
   ]
  },
  {
   "cell_type": "code",
   "execution_count": 2,
   "metadata": {},
   "outputs": [
    {
     "data": {
      "text/plain": [
       "['Hatice', 'Öztürk', 24, 1996]"
      ]
     },
     "execution_count": 2,
     "metadata": {},
     "output_type": "execute_result"
    }
   ],
   "source": [
    "#passing user info to the list\n",
    "list=[first_name,last_name,age,birth_date]\n",
    "list"
   ]
  },
  {
   "cell_type": "code",
   "execution_count": 3,
   "metadata": {},
   "outputs": [
    {
     "name": "stdout",
     "output_type": "stream",
     "text": [
      "Hatice\n",
      "Öztürk\n",
      "24\n",
      "1996\n"
     ]
    }
   ],
   "source": [
    "#display user info using for loop\n",
    "for i in list:\n",
    "    print(i)"
   ]
  },
  {
   "cell_type": "code",
   "execution_count": null,
   "metadata": {},
   "outputs": [],
   "source": []
  }
 ],
 "metadata": {
  "kernelspec": {
   "display_name": "Python 3",
   "language": "python",
   "name": "python3"
  },
  "language_info": {
   "codemirror_mode": {
    "name": "ipython",
    "version": 3
   },
   "file_extension": ".py",
   "mimetype": "text/x-python",
   "name": "python",
   "nbconvert_exporter": "python",
   "pygments_lexer": "ipython3",
   "version": "3.6.8"
  }
 },
 "nbformat": 4,
 "nbformat_minor": 2
}
