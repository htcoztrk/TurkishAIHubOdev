{
 "cells": [
  {
   "cell_type": "code",
   "execution_count": 1,
   "metadata": {},
   "outputs": [
    {
     "name": "stdout",
     "output_type": "stream",
     "text": [
      "Please enter an integer: 3\n",
      "Please enter a float: 4.5\n",
      "Please enter an int: 6\n",
      "Please enter a str:Python\n",
      "Please enter a str: Program\n",
      "3 4.5 6 Python Program\n"
     ]
    }
   ],
   "source": [
    "#Taking 5 values from the user\n",
    "a=int(input(\"Please enter an integer: \"))\n",
    "b=float(input(\"Please enter a float: \"))\n",
    "c=int(input(\"Please enter an int: \"))\n",
    "d=input(\"Please enter a str:\")\n",
    "e=input(\"Please enter a str: \")\n",
    "print(a,b,c,d,e)     "
   ]
  },
  {
   "cell_type": "code",
   "execution_count": 2,
   "metadata": {},
   "outputs": [
    {
     "name": "stdout",
     "output_type": "stream",
     "text": [
      "Format Usage a:3, b:4.5, c:6, d:Python, e:Program \n",
      "f-string usage a: <class 'int'>, b:<class 'float'>,c:<class 'int'>, d:<class 'str'>,e:<class 'str'> \n"
     ]
    }
   ],
   "source": [
    "#Format Usage\n",
    "print(\"Format Usage a:{}, b:{}, c:{}, d:{}, e:{} \".format(a,b,c,d,e))\n",
    "#f-sring Usage\n",
    "print(f'f-string usage a: {type(a)}, b:{type(b)},c:{type(c)}, d:{type(d)},e:{type(e)} ')"
   ]
  },
  {
   "cell_type": "code",
   "execution_count": 3,
   "metadata": {},
   "outputs": [
    {
     "name": "stdout",
     "output_type": "stream",
     "text": [
      "type of 3: <class 'int'>\n",
      "type of 4.5: <class 'float'>\n",
      "type of 6: <class 'int'>\n",
      "type of Python: <class 'str'>\n",
      "type of Program: <class 'str'>\n"
     ]
    }
   ],
   "source": [
    "#Type of Values\n",
    "list=[a,b,c,d,e]\n",
    "for i in range(len(list)):\n",
    "    print(f'type of {list[i]}:',type(list[i]))"
   ]
  },
  {
   "cell_type": "code",
   "execution_count": null,
   "metadata": {},
   "outputs": [],
   "source": []
  }
 ],
 "metadata": {
  "kernelspec": {
   "display_name": "Python 3",
   "language": "python",
   "name": "python3"
  },
  "language_info": {
   "codemirror_mode": {
    "name": "ipython",
    "version": 3
   },
   "file_extension": ".py",
   "mimetype": "text/x-python",
   "name": "python",
   "nbconvert_exporter": "python",
   "pygments_lexer": "ipython3",
   "version": "3.6.8"
  }
 },
 "nbformat": 4,
 "nbformat_minor": 2
}
