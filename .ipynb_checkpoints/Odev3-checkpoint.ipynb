{
 "cells": [
  {
   "cell_type": "code",
   "execution_count": 1,
   "metadata": {},
   "outputs": [
    {
     "name": "stdout",
     "output_type": "stream",
     "text": [
      "Enter your name: hatice\n",
      "  WELCOME HATICE\n",
      "Please enter your guess: p\n",
      "Cong! Go on. You have to find 5 letters\n",
      "Please enter your guess: h\n",
      "Cong! Go on. You have to find 4 letters\n",
      "Please enter your guess: t\n",
      "Cong! Go on. You have to find 3 letters\n",
      "Please enter your guess: y\n",
      "Cong! Go on. You have to find 2 letters\n",
      "Please enter your guess: o\n",
      "Cong! Go on. You have to find 1 letters\n",
      "Please enter your guess: n\n",
      "Cong! Go on. You have to find 0 letters\n",
      "YOU WIN THE GAME\n"
     ]
    }
   ],
   "source": [
    "name=input(\"Enter your name: \")    \n",
    "word=\"python\"\n",
    "letters=[\"p\",\"y\",\"t\",\"h\",\"o\",\"n\"]\n",
    "time=6\n",
    "length=6\n",
    "print(f'  WELCOME {name.upper()}')\n",
    "for i in range(0,len(word)):\n",
    "    time=time-1\n",
    "    b=False\n",
    "    guess=input(\"Please enter your guess: \")\n",
    "    for j in range(0,len(letters)):\n",
    "        if guess==letters[j]:\n",
    "            length=length-1\n",
    "            letters.remove(letters[j])\n",
    "            print(f'Cong! Go on. You have to find {length} letters')\n",
    "            b=True\n",
    "            break\n",
    "    if not b:\n",
    "        print(f'Bad decision, you have {time} luck.')\n",
    "if len(letters)<1:\n",
    "    print(\"YOU WIN THE GAME\")\n",
    "else:\n",
    "    print(f'YOU LOST THE GAME word is: {word}')\n",
    "            \n",
    "        "
   ]
  },
  {
   "cell_type": "code",
   "execution_count": null,
   "metadata": {},
   "outputs": [],
   "source": []
  }
 ],
 "metadata": {
  "kernelspec": {
   "display_name": "Python 3",
   "language": "python",
   "name": "python3"
  },
  "language_info": {
   "codemirror_mode": {
    "name": "ipython",
    "version": 3
   },
   "file_extension": ".py",
   "mimetype": "text/x-python",
   "name": "python",
   "nbconvert_exporter": "python",
   "pygments_lexer": "ipython3",
   "version": "3.6.8"
  }
 },
 "nbformat": 4,
 "nbformat_minor": 2
}
